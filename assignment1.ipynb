{
  "cells": [
    {
      "cell_type": "code",
      "source": [
        "# assignment1.py — Single-model solution (Holt-Winters with weekly seasonality)\n",
        "# Produces variables required by the assignment: model, modelFit, pred\n",
        "\n",
        "import pandas as pd\n",
        "import numpy as np\n",
        "from statsmodels.tsa.holtwinters import ExponentialSmoothing\n",
        "\n",
        "# ------------------------------\n",
        "# Helpers\n",
        "# ------------------------------\n",
        "def _infer_datetime_col(df):\n",
        "    \"\"\"Return the name of the datetime column (case-insensitive).\n",
        "    Falls back to the first column that can be parsed as datetime.\"\"\"\n",
        "    candidates = [\"datetime\", \"time\", \"timestamp\", \"date\", \"ds\"]\n",
        "    lower_cols = {c.lower(): c for c in df.columns}\n",
        "    for c in candidates:\n",
        "        if c in lower_cols:\n",
        "            return lower_cols[c]\n",
        "    # Fallback: try first column that parses to datetime\n",
        "    for c in df.columns:\n",
        "        parsed = pd.to_datetime(df[c], errors=\"coerce\", utc=False)\n",
        "        if parsed.notna().mean() > 0.95:  # most rows parse cleanly\n",
        "            return c\n",
        "    # If nothing obvious, just use the first column\n",
        "    return df.columns[0]\n",
        "\n",
        "def _load_hourly_csv(path):\n",
        "    \"\"\"Load CSV, parse datetime, set hourly index, clean small gaps.\"\"\"\n",
        "    tmp = pd.read_csv(path)\n",
        "    dt_col = _infer_datetime_col(tmp)\n",
        "    tmp[dt_col] = pd.to_datetime(tmp[dt_col])\n",
        "    tmp = tmp.sort_values(dt_col).set_index(dt_col)\n",
        "    tmp = tmp.asfreq(\"H\")  # ensure hourly frequency\n",
        "    # Basic cleaning for the target column\n",
        "    # Guess target a\n"
      ],
      "metadata": {
        "id": "OLm6UQZVaBLW"
      },
      "id": "OLm6UQZVaBLW",
      "execution_count": 3,
      "outputs": []
    },
    {
      "cell_type": "code",
      "source": [
        "import pandas as pd\n",
        "import numpy as np\n",
        "from statsmodels.tsa.statespace.varmax import VARMAX\n",
        "\n",
        "# Load the training and test data from the correct directory\n",
        "train = pd.read_csv('/content/assignment_data_train.csv')\n",
        "test = pd.read_csv('/content/assignment_data_test.csv')\n",
        "\n",
        "# Remove timestamp column (if present)\n",
        "if 'Timestamp' in train.columns:\n",
        "    train = train.drop(columns=['Timestamp'])\n",
        "if 'Timestamp' in test.columns:\n",
        "    test = test.drop(columns=['Timestamp'])\n",
        "\n",
        "# Ensure all columns are numeric\n",
        "train = train.apply(pd.to_numeric, errors='coerce')\n",
        "test = test.apply(pd.to_numeric, errors='coerce')\n",
        "\n",
        "# Identify and drop constant columns (columns with only one unique value)\n",
        "constant_cols = [col for col in train.columns if train[col].nunique() == 1]\n",
        "train = train.drop(columns=constant_cols)\n",
        "test = test.drop(columns=constant_cols, errors='ignore')\n",
        "\n",
        "# Drop missing values\n",
        "train = train.dropna()\n",
        "test = test.dropna()\n",
        "\n",
        "# DIFFERENCING: Ensure stationarity\n",
        "train_diff = train.diff().dropna()\n",
        "\n",
        "# Fit the VARMA model (VARMAX in statsmodels)\n",
        "model = VARMAX(train_diff, order=(1, 1), enforce_stationarity=False, enforce_invertibility=False)\n",
        "modelFit = model.fit(disp=False)\n",
        "\n",
        "# Forecast for 744 hours\n",
        "pred_diff = modelFit.forecast(steps=744)\n",
        "\n",
        "# Convert predictions back to original scale\n",
        "last_values = train.iloc[-1]  # Get last known values before differencing\n",
        "pred = pred_diff.cumsum() + last_values['trips']\n",
        "\n",
        "# Convert predictions into DataFrame\n",
        "pred_df = pd.DataFrame(pred, columns=['trips'])\n",
        "\n",
        "# Save predictions\n",
        "pred_df.to_csv('/content/predictions_varma.csv', index=False)\n"
      ],
      "metadata": {
        "colab": {
          "base_uri": "https://localhost:8080/"
        },
        "id": "Tuh6HawlPWpv",
        "outputId": "58cc230e-0997-4e46-be32-d8e62c04cccd"
      },
      "id": "Tuh6HawlPWpv",
      "execution_count": 5,
      "outputs": [
        {
          "output_type": "stream",
          "name": "stderr",
          "text": [
            "/usr/local/lib/python3.12/dist-packages/statsmodels/tsa/statespace/varmax.py:160: EstimationWarning: Estimation of VARMA(p,q) models is not generically robust, due especially to identification issues.\n",
            "  warn('Estimation of VARMA(p,q) models is not generically robust,'\n",
            "/usr/local/lib/python3.12/dist-packages/statsmodels/tsa/base/tsa_model.py:473: ValueWarning: An unsupported index was provided. As a result, forecasts cannot be generated. To use the model for forecasting, use one of the supported classes of index.\n",
            "  self._init_dates(dates, freq)\n",
            "/usr/local/lib/python3.12/dist-packages/statsmodels/base/model.py:607: ConvergenceWarning: Maximum Likelihood optimization failed to converge. Check mle_retvals\n",
            "  warnings.warn(\"Maximum Likelihood optimization failed to \"\n",
            "/usr/local/lib/python3.12/dist-packages/statsmodels/tsa/base/tsa_model.py:837: FutureWarning: No supported index is available. In the next version, calling this method in a model without a supported index will result in an exception.\n",
            "  return get_prediction_index(\n",
            "/usr/local/lib/python3.12/dist-packages/statsmodels/tsa/base/tsa_model.py:837: ValueWarning: No supported index is available. Prediction results will be given with an integer index beginning at `start`.\n",
            "  return get_prediction_index(\n"
          ]
        }
      ]
    }
  ],
  "metadata": {
    "kernelspec": {
      "display_name": "Python 3 (ipykernel)",
      "language": "python",
      "name": "python3"
    },
    "language_info": {
      "codemirror_mode": {
        "name": "ipython",
        "version": 3
      },
      "file_extension": ".py",
      "mimetype": "text/x-python",
      "name": "python",
      "nbconvert_exporter": "python",
      "pygments_lexer": "ipython3",
      "version": "3.9.13"
    },
    "colab": {
      "provenance": []
    }
  },
  "nbformat": 4,
  "nbformat_minor": 5
}