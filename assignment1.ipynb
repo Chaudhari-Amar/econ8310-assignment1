{
  "cells": [
    {
      "cell_type": "markdown",
      "metadata": {
        "id": "view-in-github",
        "colab_type": "text"
      },
      "source": [
        "<a href=\"https://colab.research.google.com/github/Chaudhari-Amar/econ8310-assignment1/blob/main/assignment1.ipynb\" target=\"_parent\"><img src=\"https://colab.research.google.com/assets/colab-badge.svg\" alt=\"Open In Colab\"/></a>"
      ]
    },
    {
      "cell_type": "code",
      "source": [
        "import pandas as pd\n",
        "import numpy as np\n",
        "from statsmodels.tsa.statespace.varmax import VARMAX\n",
        "\n",
        "# Load the training and test data from the correct directory\n",
        "train = pd.read_csv('/content/assignment_data_train.csv')\n",
        "test = pd.read_csv('/content/assignment_data_test.csv')\n",
        "\n",
        "# Remove timestamp column (if present)\n",
        "if 'Timestamp' in train.columns:\n",
        "    train = train.drop(columns=['Timestamp'])\n",
        "if 'Timestamp' in test.columns:\n",
        "    test = test.drop(columns=['Timestamp'])\n",
        "\n",
        "# Ensure all columns are numeric\n",
        "train = train.apply(pd.to_numeric, errors='coerce')\n",
        "test = test.apply(pd.to_numeric, errors='coerce')\n",
        "\n",
        "# Identify and drop constant columns (columns with only one unique value)\n",
        "constant_cols = [col for col in train.columns if train[col].nunique() == 1]\n",
        "train = train.drop(columns=constant_cols)\n",
        "test = test.drop(columns=constant_cols, errors='ignore')\n",
        "\n",
        "# Drop missing values\n",
        "train = train.dropna()\n",
        "test = test.dropna()\n",
        "\n",
        "# DIFFERENCING: Ensure stationarity\n",
        "train_diff = train.diff().dropna()\n",
        "\n",
        "# Fit the VARMA model (VARMAX in statsmodels)\n",
        "model = VARMAX(train_diff, order=(1, 1), enforce_stationarity=False, enforce_invertibility=False)\n",
        "modelFit = model.fit(disp=False)\n",
        "\n",
        "# Forecast for 744 hours\n",
        "pred_diff = modelFit.forecast(steps=744)\n",
        "\n",
        "# Convert predictions back to original scale\n",
        "last_values = train.iloc[-1]  # Get last known values before differencing\n",
        "pred = pred_diff.cumsum() + last_values['trips']\n",
        "\n",
        "# Convert predictions into DataFrame\n",
        "pred_df = pd.DataFrame(pred, columns=['trips'])\n",
        "\n",
        "# Save predictions\n",
        "pred_df.to_csv('/content/predictions_varma.csv', index=False)\n"
      ],
      "metadata": {
        "id": "laQXetkbTsnh"
      },
      "id": "laQXetkbTsnh",
      "execution_count": null,
      "outputs": []
    }
  ],
  "metadata": {
    "kernelspec": {
      "display_name": "Python 3 (ipykernel)",
      "language": "python",
      "name": "python3"
    },
    "language_info": {
      "codemirror_mode": {
        "name": "ipython",
        "version": 3
      },
      "file_extension": ".py",
      "mimetype": "text/x-python",
      "name": "python",
      "nbconvert_exporter": "python",
      "pygments_lexer": "ipython3",
      "version": "3.9.13"
    },
    "colab": {
      "provenance": [],
      "include_colab_link": true
    }
  },
  "nbformat": 4,
  "nbformat_minor": 5
}