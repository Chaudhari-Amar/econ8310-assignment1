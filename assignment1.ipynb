{
  "cells": [
    {
      "cell_type": "markdown",
      "metadata": {
        "id": "view-in-github",
        "colab_type": "text"
      },
      "source": [
        "<a href=\"https://colab.research.google.com/github/Chaudhari-Amar/econ8310-assignment1/blob/main/assignment1.ipynb\" target=\"_parent\"><img src=\"https://colab.research.google.com/assets/colab-badge.svg\" alt=\"Open In Colab\"/></a>"
      ]
    },
    {
      "cell_type": "code",
      "source": [
        "# SINGLE-CELL SOLUTION FOR COLAB\n",
        "\n",
        "# (Optional) ensure packages are present\n",
        "!pip -q install statsmodels pandas numpy\n",
        "\n",
        "import warnings, pickle, io, sys\n",
        "from typing import Tuple\n",
        "import numpy as np, pandas as pd\n",
        "from statsmodels.tsa.holtwinters import ExponentialSmoothing\n",
        "warnings.filterwarnings(\"ignore\")\n",
        "\n",
        "TRAIN_URL = \"https://github.com/dustywhite7/econ8310-assignment1/raw/main/assignment_data_train.csv\"\n",
        "TEST_URL  = \"https://github.com/dustywhite7/econ8310-assignment1/raw/main/assignment_data_test.csv\"\n",
        "\n",
        "def _detect_timestamp_column(df: pd.DataFrame) -> str:\n",
        "    cands = [c for c in df.columns if any(k in c.lower() for k in [\"date\",\"time\",\"timestamp\",\"datetime\"])]\n",
        "    return cands[0] if cands else \"\"\n",
        "\n",
        "def _detect_target_column(df: pd.DataFrame, exclude=()) -> str:\n",
        "    numeric = [c for c in df.columns if c not in exclude and pd.api.types.is_numeric_dtype(df[c])]\n",
        "    if numeric: return numeric[0]\n",
        "    for c in [\"y\",\"count\",\"trips\",\"trip_count\",\"rides\",\"n\"]:\n",
        "        if c in df.columns: return c\n",
        "    return df.columns[-1]\n",
        "\n",
        "def _load(url: str) -> pd.DataFrame:\n",
        "    df = pd.read_csv(url)\n",
        "    ts = _detect_timestamp_column(df)\n",
        "    if ts:\n",
        "        try:\n",
        "            df[ts] = pd.to_datetime(df[ts])\n",
        "            df = df.sort_values(ts).reset_index(drop=True)\n",
        "        except Exception:\n",
        "            pass\n",
        "    return df\n",
        "\n",
        "def _to_series(df: pd.DataFrame):\n",
        "    ts_col = _detect_timestamp_column(df)\n",
        "    y_col  = _detect_target_column(df, exclude=(ts_col,) if ts_col else ())\n",
        "    if ts_col and pd.api.types.is_datetime64_any_dtype(df[ts_col]):\n",
        "        df = df.sort_values(ts_col).reset_index(drop=True)\n",
        "        y = pd.Series(df[y_col].to_numpy(), index=pd.DatetimeIndex(df[ts_col]), name=y_col)\n",
        "        return y, y.index\n",
        "    else:\n",
        "        y = pd.Series(df[y_col].to_numpy(), name=y_col)\n",
        "        return y, y.index\n",
        "\n",
        "def build_and_fit(y: pd.Series, seasonal_periods=168):\n",
        "    min_y = float(np.nanmin(y.to_numpy()))\n",
        "    offset = 0.0\n",
        "    if min_y < 0:\n",
        "        offset = abs(min_y) + 1e-6\n",
        "        y = y + offset\n",
        "    mdl = ExponentialSmoothing(\n",
        "        y.astype(float),\n",
        "        trend=\"add\",\n",
        "        seasonal=\"add\",\n",
        "        seasonal_periods=seasonal_periods,\n",
        "        initialization_method=\"estimated\"\n",
        "    )\n",
        "    res = mdl.fit(optimized=True, use_brute=True)\n",
        "    res._hw_offset = offset\n",
        "    return mdl, res\n",
        "\n",
        "def forecast_with_fitted(res, steps: int) -> np.ndarray:\n",
        "    fc = res.forecast(steps)\n",
        "    offset = getattr(res, \"_hw_offset\", 0.0)\n",
        "    if offset:\n",
        "        fc = np.asarray(fc) - offset\n",
        "        fc = np.maximum(fc, 0.0)\n",
        "    return np.asarray(fc).ravel()\n",
        "\n",
        "# --- Load data ---\n",
        "train_df = _load(TRAIN_URL)\n",
        "test_df  = _load(TEST_URL)\n",
        "\n",
        "y_train, train_index = _to_series(train_df)\n",
        "y_test,  test_index  = _to_series(test_df)\n",
        "\n",
        "h = len(y_test) if len(y_test) > 0 else 744  # expected 744 hours (January)\n",
        "\n",
        "# --- Build, fit, forecast (REQUIRED NAMES) ---\n",
        "model, modelFit = build_and_fit(y_train, seasonal_periods=168)\n",
        "pred = forecast_with_fitted(modelFit, h)\n",
        "\n",
        "# Save artifacts for convenience\n",
        "try:\n",
        "    with open(\"model.pkl\", \"wb\") as f:\n",
        "        pickle.dump(modelFit, f)\n",
        "except Exception:\n",
        "    pass\n",
        "\n",
        "# Save predictions\n",
        "if isinstance(test_index, pd.DatetimeIndex) and len(test_index) == h:\n",
        "    pd.DataFrame({\"timestamp\": test_index, \"prediction\": pred}).to_csv(\"predictions.csv\", index=False)\n",
        "else:\n",
        "    pd.DataFrame({\"t\": np.arange(h), \"prediction\": pred}).to_csv(\"predictions.csv\", index=False)\n",
        "\n",
        "print(\"Training observations:\", len(y_train))\n",
        "print(\"Forecast horizon:\", h)\n",
        "print(\"First 5 predictions:\", pred[:5])\n",
        "\n",
        "# (Optional) auto-download the CSV in Colab\n",
        "try:\n",
        "    from google.colab import files\n",
        "    files.download(\"predictions.csv\")\n",
        "except Exception:\n",
        "    pass\n"
      ],
      "metadata": {
        "colab": {
          "base_uri": "https://localhost:8080/",
          "height": 69
        },
        "id": "Zoq1TBwiSdO2",
        "outputId": "8f464267-acc9-42f2-f1d4-ec215c96cf67"
      },
      "id": "Zoq1TBwiSdO2",
      "execution_count": null,
      "outputs": [
        {
          "output_type": "stream",
          "name": "stdout",
          "text": [
            "Training observations: 8760\n",
            "Forecast horizon: 744\n",
            "First 5 predictions: [2018. 2018. 2018. 2018. 2018.]\n"
          ]
        },
        {
          "output_type": "display_data",
          "data": {
            "text/plain": [
              "<IPython.core.display.Javascript object>"
            ],
            "application/javascript": [
              "\n",
              "    async function download(id, filename, size) {\n",
              "      if (!google.colab.kernel.accessAllowed) {\n",
              "        return;\n",
              "      }\n",
              "      const div = document.createElement('div');\n",
              "      const label = document.createElement('label');\n",
              "      label.textContent = `Downloading \"${filename}\": `;\n",
              "      div.appendChild(label);\n",
              "      const progress = document.createElement('progress');\n",
              "      progress.max = size;\n",
              "      div.appendChild(progress);\n",
              "      document.body.appendChild(div);\n",
              "\n",
              "      const buffers = [];\n",
              "      let downloaded = 0;\n",
              "\n",
              "      const channel = await google.colab.kernel.comms.open(id);\n",
              "      // Send a message to notify the kernel that we're ready.\n",
              "      channel.send({})\n",
              "\n",
              "      for await (const message of channel.messages) {\n",
              "        // Send a message to notify the kernel that we're ready.\n",
              "        channel.send({})\n",
              "        if (message.buffers) {\n",
              "          for (const buffer of message.buffers) {\n",
              "            buffers.push(buffer);\n",
              "            downloaded += buffer.byteLength;\n",
              "            progress.value = downloaded;\n",
              "          }\n",
              "        }\n",
              "      }\n",
              "      const blob = new Blob(buffers, {type: 'application/binary'});\n",
              "      const a = document.createElement('a');\n",
              "      a.href = window.URL.createObjectURL(blob);\n",
              "      a.download = filename;\n",
              "      div.appendChild(a);\n",
              "      a.click();\n",
              "      div.remove();\n",
              "    }\n",
              "  "
            ]
          },
          "metadata": {}
        },
        {
          "output_type": "display_data",
          "data": {
            "text/plain": [
              "<IPython.core.display.Javascript object>"
            ],
            "application/javascript": [
              "download(\"download_a5bcdebc-a124-4818-ba23-1c6d726c5190\", \"predictions.csv\", 28833)"
            ]
          },
          "metadata": {}
        }
      ]
    }
  ],
  "metadata": {
    "kernelspec": {
      "display_name": "Python 3 (ipykernel)",
      "language": "python",
      "name": "python3"
    },
    "language_info": {
      "codemirror_mode": {
        "name": "ipython",
        "version": 3
      },
      "file_extension": ".py",
      "mimetype": "text/x-python",
      "name": "python",
      "nbconvert_exporter": "python",
      "pygments_lexer": "ipython3",
      "version": "3.9.13"
    },
    "colab": {
      "provenance": [],
      "include_colab_link": true
    }
  },
  "nbformat": 4,
  "nbformat_minor": 5
}